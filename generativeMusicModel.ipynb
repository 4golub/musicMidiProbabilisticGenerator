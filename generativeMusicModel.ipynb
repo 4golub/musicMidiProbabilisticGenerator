{
 "cells": [
  {
   "cell_type": "markdown",
   "metadata": {},
   "source": [
    "https://golang.org/doc/codewalk/markov/\n",
    "\n",
    "https://en.wikipedia.org/wiki/Markov_chain\n",
    "\n",
    "https://en.wikipedia.org/wiki/N-gram#n-gram_models"
   ]
  },
  {
   "cell_type": "code",
   "execution_count": 124,
   "metadata": {},
   "outputs": [],
   "source": [
    "import nltk\n",
    "import random\n",
    "\n",
    "# create a dict with the ngram model, it receives a list with the samples as string\n",
    "ngram_dict = {}\n",
    "\n",
    "def create_trigram_dict(corpus):\n",
    "    n = 3\n",
    "    ngrams = nltk.ngrams(corpus, n)\n",
    "    \n",
    "    for grams in ngrams:\n",
    "        dict_key = grams[:-1][0] + \" \" + grams[:-1][1]\n",
    "        if dict_key in ngram_dict:\n",
    "            ngram_dict[dict_key].append(grams[-1])\n",
    "        else:\n",
    "            ngram_dict[dict_key] = []\n",
    "            ngram_dict[dict_key].append(grams[-1])"
   ]
  },
  {
   "cell_type": "code",
   "execution_count": 125,
   "metadata": {},
   "outputs": [],
   "source": [
    "def generate_trigram(seed, samples = 15):\n",
    "    output = seed  \n",
    "    for i in range(samples):\n",
    "        # When it reaches the last prefix, there is no suffix, so end\n",
    "        try:\n",
    "            new_sample = random.choice(ngram_dict[seed])\n",
    "        except:\n",
    "            return output\n",
    "        output += \" \" + new_sample\n",
    "        seed = seed.split(\" \")[1] + \" \" + new_sample\n",
    "\n",
    "    return output"
   ]
  },
  {
   "cell_type": "code",
   "execution_count": 127,
   "metadata": {},
   "outputs": [
    {
     "data": {
      "text/plain": [
       "{'... maybe': ['I'],\n",
       " 'I a': ['gram', 'markov', 'gram'],\n",
       " 'I am': ['both'],\n",
       " 'a gram': ['or', 'only'],\n",
       " 'a markov': ['chain'],\n",
       " 'am I': ['a', 'a', 'a'],\n",
       " 'chain am': ['I'],\n",
       " 'gram only': ['...'],\n",
       " 'gram or': ['am'],\n",
       " 'markov chain': ['am'],\n",
       " 'maybe I': ['am'],\n",
       " 'only ...': ['maybe'],\n",
       " 'or am': ['I']}"
      ]
     },
     "execution_count": 127,
     "metadata": {},
     "output_type": "execute_result"
    }
   ],
   "source": [
    "word_corpus = 'am I a gram or am I a markov chain am I a gram only ... maybe I am both'\n",
    "ngram_dict = {}\n",
    "create_trigram_dict(word_corpus.split(\" \"))\n",
    "ngram_dict"
   ]
  },
  {
   "cell_type": "code",
   "execution_count": 129,
   "metadata": {},
   "outputs": [
    {
     "name": "stdout",
     "output_type": "stream",
     "text": [
      "am I a markov chain am I a gram or am I a gram or am I a gram only ... maybe I am both\n"
     ]
    }
   ],
   "source": [
    "print generate_trigram(\"am I\", 100)"
   ]
  },
  {
   "cell_type": "code",
   "execution_count": 3,
   "metadata": {},
   "outputs": [
    {
     "name": "stdout",
     "output_type": "stream",
     "text": [
      "ready!!!\n"
     ]
    }
   ],
   "source": [
    "import pickle\n",
    "\n",
    "midi_dataset = pickle.load(open(\"validation_DB12_final_cleaned.p\", \"rb\"))\n",
    "print(\"ready!!!\")"
   ]
  },
  {
   "cell_type": "code",
   "execution_count": 4,
   "metadata": {},
   "outputs": [],
   "source": [
    "corpus = midi_dataset[\"x\"]\n",
    "corpus_str=map(str, corpus)"
   ]
  },
  {
   "cell_type": "code",
   "execution_count": 118,
   "metadata": {},
   "outputs": [
    {
     "name": "stdout",
     "output_type": "stream",
     "text": [
      "ready!!!\n"
     ]
    }
   ],
   "source": [
    "ngram_dict = {}\n",
    "create_trigram_dict(corpus_str)\n",
    "print(\"ready!!!\")"
   ]
  },
  {
   "cell_type": "code",
   "execution_count": 119,
   "metadata": {},
   "outputs": [
    {
     "name": "stdout",
     "output_type": "stream",
     "text": [
      "60 62 70 69 74 73 71 73 72 73 72 70 67 68 68 68 70 70 70 71 70 68 68 67 65 67 67 67 69 64 81 83 84 86 88 83 86 84 86 87 89 91\n"
     ]
    }
   ],
   "source": [
    "generated_melody = generate_trigram(\"60 62\", 40)\n",
    "print(generated_melody)"
   ]
  },
  {
   "cell_type": "code",
   "execution_count": 20,
   "metadata": {},
   "outputs": [],
   "source": [
    "from midiutil.MidiFile import MIDIFile   \n",
    "\n",
    "# takes a list of integers representing midi notes and creates a .mid\n",
    "# with a contant time of a quarter note for all the notes and 120 \n",
    "# as tempo(taken from garcia, 2018)\n",
    "def sequenceVector2midiMelody(seqVector, file_dir):\n",
    "    MyMIDI = MIDIFile(1)\n",
    "    track = 0 \n",
    "    time = 0\n",
    "    MyMIDI.addTrackName(track,time,\"Sample Track\") \n",
    "    MyMIDI.addTempo(track,time,120)\n",
    "    time = 0\n",
    "    for note in seqVector:\n",
    "        # MyMIDI.addNote(track,channel,pitch,time,duration,volume)\n",
    "        MyMIDI.addNote(0,0,note,time,1,100)\n",
    "        time = time + 1\n",
    "\n",
    "    binfile = open(file_dir, 'wb') \n",
    "    MyMIDI.writeFile(binfile) \n",
    "    binfile.close()"
   ]
  },
  {
   "cell_type": "code",
   "execution_count": 21,
   "metadata": {},
   "outputs": [],
   "source": [
    "sequenceVector2midiMelody(map(int,generated_melody.split(\" \")), 'generated_melody.mid')"
   ]
  },
  {
   "cell_type": "markdown",
   "metadata": {},
   "source": [
    "For the next part is necessary to have the musescore software installed, you can do it with the comman sudo apt-get install musescore, and then replace the uri in the 2 lines of environment, it will usually be: \"/usr/bin/musescore\""
   ]
  },
  {
   "cell_type": "code",
   "execution_count": null,
   "metadata": {},
   "outputs": [],
   "source": [
    "from music21 import midi\n",
    "import music21\n",
    "music21.environment.set(\"musicxmlPath\", \"/usr/bin/musescore\")\n",
    "music21.environment.set('musescoreDirectPNGPath', '/usr/bin/musescore')\n",
    "\n",
    "mid_file = midi.MidiFile()\n",
    "mid_file.open(\"generated_melody.mid\")\n",
    "mid_file.read()\n",
    "mid_file.close()\n",
    "mid_stream = midi.translate.midiFileToStream(mid_file)\n",
    "mid_stream.show()\n",
    "\n",
    "mid_stream.show(\"midi\")\n",
    "sp = midi.realtime.StreamPlayer(mid_stream)\n",
    "sp.play()"
   ]
  },
  {
   "cell_type": "markdown",
   "metadata": {},
   "source": [
    "# generalizing to n-gram"
   ]
  },
  {
   "cell_type": "code",
   "execution_count": 104,
   "metadata": {},
   "outputs": [],
   "source": [
    "import nltk\n",
    "import random\n",
    "\n",
    "# create a dict with the ngram model, it receives a list with the samples as string, an the n pramater\n",
    "# of the n-gram\n",
    "ngram_dict = {}\n",
    "\n",
    "def create_ngram_dict(corpus, n = 3):\n",
    "    ngrams = nltk.ngrams(corpus, n)\n",
    "    \n",
    "    for grams in ngrams:\n",
    "        dict_key = grams[:-1][0] \n",
    "        for i in range(1, n-1):\n",
    "             dict_key += \" \" + grams[:-1][i]\n",
    "        if dict_key in ngram_dict:\n",
    "            ngram_dict[dict_key].append(grams[-1])\n",
    "        else:\n",
    "            ngram_dict[dict_key] = []\n",
    "            ngram_dict[dict_key].append(grams[-1])\n",
    "            \n",
    "def generate_ngram(seed, samples = 15):\n",
    "    output = seed  \n",
    "    for i in range(samples):\n",
    "        # When it reaches the last prefix, there is no suffix, so end\n",
    "        try:\n",
    "            new_sample = random.choice(ngram_dict[seed])\n",
    "        except:\n",
    "            return output\n",
    "        output += \" \" + new_sample\n",
    "        temp_seed = seed.split(\" \")[1]\n",
    "        #import pdb\n",
    "        #pdb.set_trace()\n",
    "        for sample in seed.split(\" \")[2:]:\n",
    "            temp_seed += \" \" + sample \n",
    "        seed = temp_seed + \" \" + new_sample\n",
    "\n",
    "    return output            "
   ]
  },
  {
   "cell_type": "code",
   "execution_count": 120,
   "metadata": {},
   "outputs": [
    {
     "name": "stdout",
     "output_type": "stream",
     "text": [
      "ready!!!\n"
     ]
    }
   ],
   "source": [
    "ngram_dict = {}\n",
    "create_ngram_dict(corpus_str, 5)\n",
    "print(\"ready!!!\")"
   ]
  },
  {
   "cell_type": "code",
   "execution_count": 123,
   "metadata": {},
   "outputs": [
    {
     "name": "stdout",
     "output_type": "stream",
     "text": [
      "60 62 60 62 64 65 64 62 60 53 55 57 55 60 60 55 55 55 57 57 58 53 58 58 57 58 60 62 63 65 66 63 66 65 61 61 61 63 61 63 61 60 58 63\n"
     ]
    }
   ],
   "source": [
    "generated_melody = generate_ngram(\"60 62 60 62\", 40)\n",
    "print(generated_melody)"
   ]
  },
  {
   "cell_type": "code",
   "execution_count": 112,
   "metadata": {},
   "outputs": [
    {
     "data": {
      "text/plain": [
       "{'... maybe I am': ['both'],\n",
       " 'I a gram or': ['am'],\n",
       " 'I a markov chain': ['...'],\n",
       " 'a gram or am': ['I'],\n",
       " 'a markov chain ...': ['maybe'],\n",
       " 'am I a gram': ['or'],\n",
       " 'am I a markov': ['chain'],\n",
       " 'chain ... maybe I': ['am'],\n",
       " 'gram or am I': ['a'],\n",
       " 'markov chain ... maybe': ['I'],\n",
       " 'or am I a': ['markov']}"
      ]
     },
     "execution_count": 112,
     "metadata": {},
     "output_type": "execute_result"
    }
   ],
   "source": [
    "word_corpus = 'am I a gram or am I a markov chain ... maybe I am both'\n",
    "ngram_dict = {}\n",
    "create_ngram_dict(word_corpus.split(\" \"), 5)\n",
    "ngram_dict"
   ]
  },
  {
   "cell_type": "code",
   "execution_count": 106,
   "metadata": {},
   "outputs": [
    {
     "name": "stdout",
     "output_type": "stream",
     "text": [
      "I a gram or am I a markov chain ... maybe I am both\n"
     ]
    }
   ],
   "source": [
    "print generate_ngram(\"I a gram or\", 100)"
   ]
  }
 ],
 "metadata": {
  "kernelspec": {
   "display_name": "Python 2",
   "language": "python",
   "name": "python2"
  },
  "language_info": {
   "codemirror_mode": {
    "name": "ipython",
    "version": 2
   },
   "file_extension": ".py",
   "mimetype": "text/x-python",
   "name": "python",
   "nbconvert_exporter": "python",
   "pygments_lexer": "ipython2",
   "version": "2.7.12"
  }
 },
 "nbformat": 4,
 "nbformat_minor": 2
}
