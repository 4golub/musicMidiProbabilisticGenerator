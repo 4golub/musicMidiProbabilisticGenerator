{
 "cells": [
  {
   "cell_type": "markdown",
   "metadata": {},
   "source": [
    "https://golang.org/doc/codewalk/markov/\n",
    "https://en.wikipedia.org/wiki/Markov_chain\n",
    "https://en.wikipedia.org/wiki/N-gram#n-gram_models"
   ]
  },
  {
   "cell_type": "code",
   "execution_count": null,
   "metadata": {},
   "outputs": [],
   "source": [
    "import nltk\n",
    "import random\n",
    "\n",
    "sentence = 'am I a gram or am I a markov chain ... maybe I am both'\n",
    "n = 3\n",
    "ngrams = nltk.ngrams(sentence.split(), n)\n",
    "ngram_dict = {}\n",
    "\n",
    "for grams in ngrams:\n",
    "    dict_key = grams[:-1][0] + \" \" + grams[:-1][1]\n",
    "    if dict_key in ngram_dict:\n",
    "        ngram_dict[dict_key].append(grams[-1])\n",
    "    else:\n",
    "        ngram_dict[dict_key] = []\n",
    "        ngram_dict[dict_key].append(grams[-1])\n",
    "\n",
    "ngram_dict"
   ]
  },
  {
   "cell_type": "code",
   "execution_count": null,
   "metadata": {},
   "outputs": [],
   "source": [
    "def generate(seed, samples = 15):\n",
    "    output = seed  \n",
    "    for i in range(samples):\n",
    "        new_sample = random.choice(ngram_dict[seed])\n",
    "        output += \" \" + new_sample\n",
    "        seed = seed.split(\" \")[1] + \" \" + new_sample\n",
    "\n",
    "    return output\n",
    "\n",
    "print generate (\"am I\")"
   ]
  },
  {
   "cell_type": "code",
   "execution_count": null,
   "metadata": {},
   "outputs": [],
   "source": []
  }
 ],
 "metadata": {
  "kernelspec": {
   "display_name": "Python 2",
   "language": "python",
   "name": "python2"
  },
  "language_info": {
   "codemirror_mode": {
    "name": "ipython",
    "version": 2
   },
   "file_extension": ".py",
   "mimetype": "text/x-python",
   "name": "python",
   "nbconvert_exporter": "python",
   "pygments_lexer": "ipython2",
   "version": "2.7.12"
  }
 },
 "nbformat": 4,
 "nbformat_minor": 2
}
