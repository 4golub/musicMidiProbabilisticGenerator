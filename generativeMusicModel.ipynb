{
 "cells": [
  {
   "cell_type": "markdown",
   "metadata": {},
   "source": [
    "https://golang.org/doc/codewalk/markov/\n",
    "https://en.wikipedia.org/wiki/Markov_chain\n",
    "https://en.wikipedia.org/wiki/N-gram#n-gram_models"
   ]
  },
  {
   "cell_type": "code",
   "execution_count": null,
   "metadata": {},
   "outputs": [],
   "source": [
    "import nltk\n",
    "import random\n",
    "\n",
    "# create a dict with the ngram model, it receives a list with the samples as string\n",
    "ngram_dict = {}\n",
    "\n",
    "def create_ngram_dict(corpus):\n",
    "    n = 3\n",
    "    ngrams = nltk.ngrams(corpus, n)\n",
    "    \n",
    "    for grams in ngrams:\n",
    "        dict_key = grams[:-1][0] + \" \" + grams[:-1][1]\n",
    "        if dict_key in ngram_dict:\n",
    "            ngram_dict[dict_key].append(grams[-1])\n",
    "        else:\n",
    "            ngram_dict[dict_key] = []\n",
    "            ngram_dict[dict_key].append(grams[-1])"
   ]
  },
  {
   "cell_type": "code",
   "execution_count": null,
   "metadata": {},
   "outputs": [],
   "source": [
    "def generate(seed, samples = 15):\n",
    "    output = seed  \n",
    "    for i in range(samples):\n",
    "        # When it reaches the last prefix, there is no suffix, so end\n",
    "        try:\n",
    "            new_sample = random.choice(ngram_dict[seed])\n",
    "        except:\n",
    "            return output\n",
    "        output += \" \" + new_sample\n",
    "        seed = seed.split(\" \")[1] + \" \" + new_sample\n",
    "\n",
    "    return output"
   ]
  },
  {
   "cell_type": "code",
   "execution_count": null,
   "metadata": {},
   "outputs": [],
   "source": [
    "import pickle\n",
    "\n",
    "midi_dataset = pickle.load(open(\"validation_DB12_final_cleaned.p\", \"rb\"))\n",
    "print(\"ready!!!\")"
   ]
  },
  {
   "cell_type": "code",
   "execution_count": null,
   "metadata": {},
   "outputs": [],
   "source": [
    "corpus = midi_dataset[\"x\"]\n",
    "corpus_str=map(str, corpus)"
   ]
  },
  {
   "cell_type": "code",
   "execution_count": null,
   "metadata": {},
   "outputs": [],
   "source": [
    "ngram_dict = {}\n",
    "create_ngram_dict(corpus_str)\n",
    "print(\"ready!!!\")"
   ]
  },
  {
   "cell_type": "code",
   "execution_count": null,
   "metadata": {},
   "outputs": [],
   "source": [
    "generated_melody = generate(\"60 62\", 100)\n",
    "print(generated_melody)"
   ]
  },
  {
   "cell_type": "code",
   "execution_count": null,
   "metadata": {},
   "outputs": [],
   "source": [
    "from midiutil.MidiFile import MIDIFile   \n",
    "\n",
    "# takes a list of integers representing midi notes and creates a .mid\n",
    "# with a contant time of a quarter note for all the notes and 120 \n",
    "# as tempo(taken from garcia, 2018)\n",
    "def sequenceVector2midiMelody(seqVector, file_dir):\n",
    "    MyMIDI = MIDIFile(1)\n",
    "    track = 0 \n",
    "    time = 0\n",
    "    MyMIDI.addTrackName(track,time,\"Sample Track\") \n",
    "    MyMIDI.addTempo(track,time,120)\n",
    "    time = 0\n",
    "    for note in seqVector:\n",
    "        # MyMIDI.addNote(track,channel,pitch,time,duration,volume)\n",
    "        MyMIDI.addNote(0,0,note,time,1,100)\n",
    "        time = time + 1\n",
    "\n",
    "    binfile = open(file_dir, 'wb') \n",
    "    MyMIDI.writeFile(binfile) \n",
    "    binfile.close()"
   ]
  },
  {
   "cell_type": "code",
   "execution_count": null,
   "metadata": {},
   "outputs": [],
   "source": [
    "sequenceVector2midiMelody(map(int,generated_melody.split(\" \")), 'generated_melody.mid')"
   ]
  },
  {
   "cell_type": "code",
   "execution_count": null,
   "metadata": {},
   "outputs": [],
   "source": [
    "from music21 import midi\n",
    "import music21\n",
    "music21.environment.set(\"musicxmlPath\", \"/usr/bin/musescore\")\n",
    "music21.environment.set('musescoreDirectPNGPath', '/usr/bin/musescore')\n",
    "music21.environment.set('midiPath', '/usr/bin/timidity')\n",
    "\n",
    "mf = midi.MidiFile()\n",
    "mf.open(\"generated_melody.mid\")\n",
    "mf.read()\n",
    "mf.close()\n",
    "play = midi.translate.midiFileToStream(mf)\n",
    "play.show(\"midi\")"
   ]
  },
  {
   "cell_type": "code",
   "execution_count": null,
   "metadata": {},
   "outputs": [],
   "source": [
    "play.show(\"midi\")"
   ]
  },
  {
   "cell_type": "code",
   "execution_count": null,
   "metadata": {},
   "outputs": [],
   "source": [
    "from music21.converter.subConverters import ConverterMusicXML\n",
    "conv_musicxml = ConverterMusicXML()\n",
    "scorename = 'myScoreName.xml'\n",
    "filepath = 'C:/path/to/musical_scores/' + scorename\n",
    "out_filepath = conv_musicxml.write(music21object, 'musicxml', fp=filepath, subformats=['png'])"
   ]
  },
  {
   "cell_type": "code",
   "execution_count": null,
   "metadata": {},
   "outputs": [],
   "source": [
    "print generate(\"am I\", 100)"
   ]
  }
 ],
 "metadata": {
  "kernelspec": {
   "display_name": "Python 2",
   "language": "python",
   "name": "python2"
  },
  "language_info": {
   "codemirror_mode": {
    "name": "ipython",
    "version": 2
   },
   "file_extension": ".py",
   "mimetype": "text/x-python",
   "name": "python",
   "nbconvert_exporter": "python",
   "pygments_lexer": "ipython2",
   "version": "2.7.12"
  }
 },
 "nbformat": 4,
 "nbformat_minor": 2
}
